{
 "cells": [
  {
   "cell_type": "markdown",
   "id": "northern-federation",
   "metadata": {},
   "source": [
    "# <center><font size=5> Machine Learing</font></center>\n",
    "<center><font size=3><i> Machine Learning- Validation KNN</i></font></center>  \n",
    "<center><font size=3><i> Jie Guo</i></font></center>\n",
    "<center><font size=3><i>3/5/2021</i></font></center>\n",
    "\n",
    "---"
   ]
  },
  {
   "cell_type": "markdown",
   "id": "dried-imagination",
   "metadata": {},
   "source": [
    "In this problem will use validation sets to pick parameters for k-nearest neighbor (KNN) model. The data sets for this problem are healthcareTrain.csv and healthcareTest.csv"
   ]
  },
  {
   "cell_type": "code",
   "execution_count": 1,
   "id": "functioning-medicine",
   "metadata": {},
   "outputs": [
    {
     "name": "stderr",
     "output_type": "stream",
     "text": [
      "Loading required package: lattice\n",
      "Loading required package: ggplot2\n",
      "Warning message:\n",
      "\"package 'ggplot2' was built under R version 3.6.3\"Warning message:\n",
      "\"package 'flexclust' was built under R version 3.6.3\"Loading required package: grid\n",
      "Loading required package: modeltools\n",
      "Warning message:\n",
      "\"package 'modeltools' was built under R version 3.6.3\"Loading required package: stats4\n",
      "\n",
      "Attaching package: 'modeltools'\n",
      "\n",
      "The following object is masked from 'package:plyr':\n",
      "\n",
      "    empty\n",
      "\n"
     ]
    }
   ],
   "source": [
    "rm(list = ls())\n",
    "library(class)\n",
    "library(stats)\n",
    "library(caret)\n",
    "library(plyr)\n",
    "library(flexclust)\n",
    "library(data.table)\n",
    "library(Matrix)\n",
    "library(MASS)\n",
    "library(ggplot2)"
   ]
  },
  {
   "cell_type": "code",
   "execution_count": 2,
   "id": "international-tonight",
   "metadata": {},
   "outputs": [],
   "source": [
    "adTrain = read.csv(\"healthcareTrain.csv\")\n",
    "numCols <- sapply(adTrain, is.numeric)\n",
    "adTrain = adTrain[,numCols]\n",
    "adTest = read.csv(\"healthcareTest.csv\")"
   ]
  },
  {
   "cell_type": "code",
   "execution_count": 3,
   "id": "derived-sweet",
   "metadata": {},
   "outputs": [],
   "source": [
    "train <- adTrain[c(\"total_los\",\"num_op\",\"num_er\",\"num_ndc\",\"pre_total_cost\",\"pre_CCI\",\"pdc_80_flag\")]\n",
    "\n",
    "test <- adTest[c(\"total_los\",\"num_op\",\"num_er\",\"num_ndc\",\"pre_total_cost\",\"pre_CCI\",\"pdc_80_flag\")]"
   ]
  },
  {
   "cell_type": "code",
   "execution_count": 4,
   "id": "hazardous-arcade",
   "metadata": {},
   "outputs": [],
   "source": [
    "test <- as.data.frame(lapply(test, as.numeric))\n",
    "train <- as.data.frame(lapply(train, as.numeric))"
   ]
  },
  {
   "cell_type": "markdown",
   "id": "aggressive-symposium",
   "metadata": {},
   "source": [
    "### Nomalization"
   ]
  },
  {
   "cell_type": "code",
   "execution_count": 5,
   "id": "distant-croatia",
   "metadata": {},
   "outputs": [],
   "source": [
    "preObj <- preProcess(train[, 1:6], method=\"range\")\n",
    "adTrain.norm <- predict(preObj, train[, 1:6])\n",
    "adTest.norm = predict(preObj, test[, 1:6])\n",
    "trainlabel=train[\"pdc_80_flag\" ]"
   ]
  },
  {
   "cell_type": "markdown",
   "id": "italic-asthma",
   "metadata": {},
   "source": [
    "### Creat K fold for cross validation"
   ]
  },
  {
   "cell_type": "code",
   "execution_count": 6,
   "id": "received-export",
   "metadata": {},
   "outputs": [],
   "source": [
    "k_fold <- function(k,datasize,seed){\n",
    "  cvlist <- list()\n",
    "  set.seed(seed)\n",
    "  n <- rep(1:k,ceiling(datasize/k))[1:datasize]    \n",
    "  temp <- sample(n,datasize)  \n",
    "  x <- 1:k\n",
    "  dataseq <- 1:datasize\n",
    "  cvlist <- lapply(x,function(x) dataseq[temp==x]) \n",
    "  return(cvlist)\n",
    "}"
   ]
  },
  {
   "cell_type": "code",
   "execution_count": 7,
   "id": "absent-toner",
   "metadata": {},
   "outputs": [],
   "source": [
    "k <- 10\n",
    "datasize <- nrow(adTrain.norm)\n",
    "kfold_index <- k_fold(k = k,datasize = datasize,seed = 123)"
   ]
  },
  {
   "cell_type": "markdown",
   "id": "athletic-military",
   "metadata": {},
   "source": [
    "### Combine KNN model and cross validation"
   ]
  },
  {
   "cell_type": "code",
   "execution_count": 8,
   "id": "sustainable-criticism",
   "metadata": {},
   "outputs": [
    {
     "name": "stdout",
     "output_type": "stream",
     "text": [
      "K is 33 and the accuracy is 0.6059611"
     ]
    }
   ],
   "source": [
    "score_df <-c()\n",
    "accuracyTable <- data.frame()\n",
    "for(i in seq(31,101,by=2)){\n",
    "    accuracy<-c()\n",
    "    for (j in 1:10){\n",
    "        X_train=adTrain.norm[-kfold_index[[j]],]\n",
    "        X_test=adTrain.norm[kfold_index[[j]],]\n",
    "        y_train=trainlabel[-kfold_index[[j]],]\n",
    "        y_test=trainlabel[kfold_index[[j]],]\n",
    "        \n",
    "        knn_Label <- knn(train=X_train,\n",
    "                          test=X_test,\n",
    "                          cl=y_train, k=i)\n",
    "        k_accuracy <- sum(y_test == knn_Label)/length(y_test)\n",
    "        accuracy <-append(accuracy,k_accuracy)\n",
    "        mean_accuracy=mean(accuracy)\n",
    "        \n",
    "    }\n",
    "    \n",
    "    score_df <-append(score_df,mean_accuracy)\n",
    "    \n",
    "}\n",
    "        \n",
    "       \n",
    "k= seq(31,101,by=2)    \n",
    "accuracyTable <- data.frame(k,score_df)\n",
    "cat(\"K is\",accuracyTable[which(accuracyTable[,2]==max(accuracyTable[,2])),1],\"and the accuracy is\",max(accuracyTable[,2]))"
   ]
  },
  {
   "cell_type": "markdown",
   "id": "improving-result",
   "metadata": {},
   "source": [
    "### Plot the Accuracy"
   ]
  },
  {
   "cell_type": "code",
   "execution_count": 9,
   "id": "smaller-colony",
   "metadata": {},
   "outputs": [
    {
     "data": {
      "image/png": "[encoded data removed]",
      "text/plain": [
       "Plot with title \"10-fold cross validation vs. K\""
      ]
     },
     "metadata": {},
     "output_type": "display_data"
    }
   ],
   "source": [
    "plot(x = accuracyTable$k,\n",
    "     y = accuracyTable$score_df,\n",
    "     type=\"o\",\n",
    "     main=\"10-fold cross validation vs. K\",\n",
    "     xlab=\"K\",\n",
    "     ylab=\"accuracy\",\n",
    "     )"
   ]
  },
  {
   "cell_type": "markdown",
   "id": "virgin-explorer",
   "metadata": {},
   "source": [
    "### Compare test error and validation error"
   ]
  },
  {
   "cell_type": "code",
   "execution_count": 10,
   "id": "precious-distinction",
   "metadata": {},
   "outputs": [
    {
     "data": {
      "text/html": [
       "0.415697674418605"
      ],
      "text/latex": [
       "0.415697674418605"
      ],
      "text/markdown": [
       "0.415697674418605"
      ],
      "text/plain": [
       "[1] 0.4156977"
      ]
     },
     "metadata": {},
     "output_type": "display_data"
    }
   ],
   "source": [
    "test_label=test[\"pdc_80_flag\" ]\n",
    "k_test_error=accuracyTable[which(accuracyTable[,2]==max(accuracyTable[,2])),1]\n",
    "knn_Label2 <- knn(train=adTrain.norm,\n",
    "                  test=adTest.norm,\n",
    "                  cl=trainlabel$pdc_80_flag, k=k_test_error)\n",
    "k_accuracy2 <- sum(test_label$pdc_80_flag == knn_Label2)/length(test_label$pdc_80_flag)\n",
    "test_error=1-k_accuracy2\n",
    "test_error"
   ]
  },
  {
   "cell_type": "code",
   "execution_count": 11,
   "id": "challenging-mozambique",
   "metadata": {},
   "outputs": [
    {
     "data": {
      "text/html": [
       "33"
      ],
      "text/latex": [
       "33"
      ],
      "text/markdown": [
       "33"
      ],
      "text/plain": [
       "[1] 33"
      ]
     },
     "metadata": {},
     "output_type": "display_data"
    }
   ],
   "source": [
    "k_test_error"
   ]
  },
  {
   "cell_type": "code",
   "execution_count": 12,
   "id": "stuffed-single",
   "metadata": {},
   "outputs": [
    {
     "data": {
      "text/html": [
       "0.394038929440389"
      ],
      "text/latex": [
       "0.394038929440389"
      ],
      "text/markdown": [
       "0.394038929440389"
      ],
      "text/plain": [
       "[1] 0.3940389"
      ]
     },
     "metadata": {},
     "output_type": "display_data"
    }
   ],
   "source": [
    "Validation_error=1-max(accuracyTable[,2])\n",
    "Validation_error"
   ]
  },
  {
   "cell_type": "markdown",
   "id": "amazing-parliament",
   "metadata": {},
   "source": [
    "so the validation error is smaller than test error"
   ]
  },
  {
   "cell_type": "code",
   "execution_count": null,
   "id": "minor-tomorrow",
   "metadata": {},
   "outputs": [],
   "source": []
  }
 ],
 "metadata": {
  "kernelspec": {
   "display_name": "R",
   "language": "R",
   "name": "ir"
  },
  "language_info": {
   "codemirror_mode": "r",
   "file_extension": ".r",
   "mimetype": "text/x-r-source",
   "name": "R",
   "pygments_lexer": "r",
   "version": "3.6.1"
  }
 },
 "nbformat": 4,
 "nbformat_minor": 5
}
